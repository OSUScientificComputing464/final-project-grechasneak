{
 "cells": [
  {
   "cell_type": "markdown",
   "metadata": {},
   "source": [
    "# Final Project"
   ]
  },
  {
   "cell_type": "markdown",
   "metadata": {},
   "source": [
    "The final class project is located on github at\n",
    "\n",
    "https://classroom.github.com/a/qP9GMlhd\n",
    "\n",
    "Deadline is Wednesday, December 5 at 2pm.\n",
    "\n",
    "Please submit your work as jupyter notebook (or possibly multiple jupyter notebooks) via github classroom. It is permissible to discuss your project with other students but your submitted work has to be your own. All modeling work should be accompanied by text describing and explaining the work and suitable figures.\n",
    "\n",
    "Only if you have problem with the github classrom submission is it permissible to submit via email. Please explain the difficulties you experienced with github classroom, so they can be avoided in the future."
   ]
  },
  {
   "cell_type": "markdown",
   "metadata": {},
   "source": [
    "## Predicting superconducting transition temperatures from material database."
   ]
  },
  {
   "cell_type": "markdown",
   "metadata": {},
   "source": [
    "### Background\n",
    "\n",
    "We will use materials data for superconducting materials to create machine learning models to predict the superconducting transition temperature of superconducting materials. We will not try to predict the potential of a material to be a superconductor, as this is a question that far exceeds the scope of this final class project.\n",
    "\n",
    "Your project should use as a guide the relevant sections of the paper \n",
    "**Machine learning modeling of superconducting critical temperature**\n",
    "by Stanev et al.\n",
    "\n",
    "* published: https://www.sciencedirect.com/science/article/pii/S0927025618304877\n",
    "* arXiv: https://arxiv.org/abs/1709.02727\n",
    "\n",
    "However, to simplify data collection, we will use the dataset described in the paper\n",
    "**A Data-Driven Statistical Model for Predicting the Critical Temperature of a Superconductor**\n",
    "by Kam Hamidieh \n",
    "\n",
    "* arXiv https://arxiv.org/abs/1803.10260\n",
    "* github https://github.com/khamidieh/predict_tc/blob/master/paper_3.pdf\n",
    "\n",
    "The dataset is available in the github project: https://github.com/khamidieh/predict_tc\n",
    "This dataset is based in part on the same sources as the Stanev paper but in its final form differs considerably in the choice of variables from the data used in the Stanev paper. Hence you should not expect identical results.\n"
   ]
  },
  {
   "cell_type": "markdown",
   "metadata": {},
   "source": [
    "### Part 1 - Extract the dataset \n",
    "The Hamidieh dataset can be downloaded as part of a github project provided by the author: https://github.com/khamidieh/predict_tc .\n",
    "However the dataset is in a binary format that is not directly accessible from python. Follow the instructions in the github project to extract datafiles that can be imported into python. All software necessary software is available on the computers in Weniger 412.\n"
   ]
  },
  {
   "cell_type": "markdown",
   "metadata": {},
   "source": [
    "### Part 2 - Visualization and exploration of the data\n",
    "\n",
    "Explore and visualize the dataset. Answer  questions like:How many variables? How many entries? Which elements appear how often? Use the figures in the papers as a guide. At the minimum provide figures of super conducting transition temperature distribution in the dataset. Create seperate plots for entire dataset and the 3 classes of superconductors discussed in the Stanev paper:\n",
    "\n",
    "* $T_c<10K$. \n",
    "* Iron based super conductors, i.e. material composition contains $Fe$.\n",
    "* HTC superconductors, i.e material composition contains $Cu$ and $O$ in roughly a $1:2$ ration. Note, that for example $YBa_2Cu_4O_7$ is a HTC superconductor and $4:7$ is roughly $1:2$ in this context.\n",
    "\n",
    "\n"
   ]
  },
  {
   "cell_type": "markdown",
   "metadata": {},
   "source": [
    "### Part 3 - Dimensionality reduction\n",
    "\n",
    "Apply dimensionalty reduction (see project 3, for example principle component analysis (PCA)) to the dataset. What can you learn about the data? visualize your results.\n"
   ]
  },
  {
   "cell_type": "markdown",
   "metadata": {},
   "source": [
    "### Part 4 - Random Forests\n",
    "\n",
    "Follow the example of the Stanev paper and apply Random Forest machine learning models to the data to predict the superconducting transition temperature. Use standard techniques discussed in class such as training and test data and cross-validation.\n",
    "\n",
    "Consider both the entire dataset and the superconductor categories discussed in the Stanev paper (and listed in part 2) \n",
    "Discuss your models and use suitable graphs to document your work.\n",
    "\n",
    "What predictions does your model make for the potential superconducting materials listed in table 6 of the Hamidieh paper? \n"
   ]
  },
  {
   "cell_type": "markdown",
   "metadata": {},
   "source": [
    "### Part 5 - Other  machine learning models\n",
    "\n",
    "Apply and discuss another machine learning model (discussed in class or in the textbook) to the data. How does it compare to random forests? Why does it perform better (or worse) than random forests?\n"
   ]
  },
  {
   "cell_type": "code",
   "execution_count": null,
   "metadata": {
    "collapsed": true
   },
   "outputs": [],
   "source": []
  }
 ],
 "metadata": {
  "kernelspec": {
   "display_name": "Python [default]",
   "language": "python",
   "name": "python3"
  },
  "language_info": {
   "codemirror_mode": {
    "name": "ipython",
    "version": 3
   },
   "file_extension": ".py",
   "mimetype": "text/x-python",
   "name": "python",
   "nbconvert_exporter": "python",
   "pygments_lexer": "ipython3",
   "version": "3.6.1"
  }
 },
 "nbformat": 4,
 "nbformat_minor": 2
}
